{
 "cells": [
  {
   "cell_type": "code",
   "execution_count": 21,
   "metadata": {},
   "outputs": [],
   "source": [
    "import pandas as pd\n",
    "import cupy as cp\n",
    "\n",
    "stock_df = pd.read_csv(\"./stocks.csv\", index_col=0) # row timestamp column each stock\n",
    "reset_df = stock_df.reset_index(drop=True)\n",
    "change_df = reset_df.pct_change()\n",
    "change_df.iloc[0] = 0\n",
    "change_df = change_df + 1 # dataframe of price changes by the previous date\n"
   ]
  },
  {
   "cell_type": "code",
   "execution_count": 22,
   "metadata": {},
   "outputs": [
    {
     "data": {
      "text/html": [
       "<div>\n",
       "<style scoped>\n",
       "    .dataframe tbody tr th:only-of-type {\n",
       "        vertical-align: middle;\n",
       "    }\n",
       "\n",
       "    .dataframe tbody tr th {\n",
       "        vertical-align: top;\n",
       "    }\n",
       "\n",
       "    .dataframe thead th {\n",
       "        text-align: right;\n",
       "    }\n",
       "</style>\n",
       "<table border=\"1\" class=\"dataframe\">\n",
       "  <thead>\n",
       "    <tr style=\"text-align: right;\">\n",
       "      <th></th>\n",
       "      <th>Stock_1</th>\n",
       "      <th>Stock_2</th>\n",
       "    </tr>\n",
       "  </thead>\n",
       "  <tbody>\n",
       "    <tr>\n",
       "      <th>0</th>\n",
       "      <td>1.0</td>\n",
       "      <td>1.0</td>\n",
       "    </tr>\n",
       "    <tr>\n",
       "      <th>1</th>\n",
       "      <td>2.0</td>\n",
       "      <td>0.5</td>\n",
       "    </tr>\n",
       "    <tr>\n",
       "      <th>2</th>\n",
       "      <td>0.5</td>\n",
       "      <td>2.0</td>\n",
       "    </tr>\n",
       "    <tr>\n",
       "      <th>3</th>\n",
       "      <td>2.0</td>\n",
       "      <td>0.5</td>\n",
       "    </tr>\n",
       "    <tr>\n",
       "      <th>4</th>\n",
       "      <td>0.5</td>\n",
       "      <td>2.0</td>\n",
       "    </tr>\n",
       "    <tr>\n",
       "      <th>5</th>\n",
       "      <td>2.0</td>\n",
       "      <td>0.5</td>\n",
       "    </tr>\n",
       "    <tr>\n",
       "      <th>6</th>\n",
       "      <td>0.5</td>\n",
       "      <td>2.0</td>\n",
       "    </tr>\n",
       "    <tr>\n",
       "      <th>7</th>\n",
       "      <td>2.0</td>\n",
       "      <td>0.5</td>\n",
       "    </tr>\n",
       "    <tr>\n",
       "      <th>8</th>\n",
       "      <td>0.5</td>\n",
       "      <td>2.0</td>\n",
       "    </tr>\n",
       "    <tr>\n",
       "      <th>9</th>\n",
       "      <td>2.0</td>\n",
       "      <td>0.5</td>\n",
       "    </tr>\n",
       "  </tbody>\n",
       "</table>\n",
       "</div>"
      ],
      "text/plain": [
       "   Stock_1  Stock_2\n",
       "0      1.0      1.0\n",
       "1      2.0      0.5\n",
       "2      0.5      2.0\n",
       "3      2.0      0.5\n",
       "4      0.5      2.0\n",
       "5      2.0      0.5\n",
       "6      0.5      2.0\n",
       "7      2.0      0.5\n",
       "8      0.5      2.0\n",
       "9      2.0      0.5"
      ]
     },
     "execution_count": 22,
     "metadata": {},
     "output_type": "execute_result"
    }
   ],
   "source": [
    "change_df"
   ]
  },
  {
   "cell_type": "code",
   "execution_count": 23,
   "metadata": {},
   "outputs": [
    {
     "name": "stdout",
     "output_type": "stream",
     "text": [
      "Generated Matrix (GPU):\n",
      "[[0.2556044  0.40455246 0.27942138 0.06042176]\n",
      " [0.01657656 0.32559385 0.36102567 0.29680392]\n",
      " [0.41849697 0.25567727 0.20717781 0.11864795]\n",
      " [0.0593456  0.85686524 0.03747331 0.04631586]\n",
      " [0.34568014 0.10459102 0.12074522 0.42898362]]\n"
     ]
    }
   ],
   "source": [
    "\n",
    "def generate_matrix_gpu(sample_size, n):\n",
    "    # GPU上でランダムな一様乱数を生成\n",
    "    random_matrix = cp.random.rand(sample_size, n - 1)\n",
    "    \n",
    "    # 最後の列に1を追加\n",
    "    ones_column = cp.ones((sample_size, 1))\n",
    "    full_matrix = cp.concatenate((random_matrix, ones_column), axis=1)\n",
    "    \n",
    "    # 各行をソート\n",
    "    sorted_matrix = cp.sort(full_matrix, axis=1)\n",
    "    \n",
    "    # 差分を計算\n",
    "    result_matrix = cp.zeros((sample_size, n))\n",
    "    result_matrix[:, 0] = sorted_matrix[:, 0]  # 最初の列はそのまま\n",
    "    result_matrix[:, 1:] = sorted_matrix[:, 1:] - sorted_matrix[:, :-1]\n",
    "    \n",
    "    return result_matrix\n",
    "\n",
    "# 使用例\n",
    "sample_size = 5  # サンプル数\n",
    "n = 4  # 列数\n",
    "\n",
    "# 行列をGPUで生成\n",
    "result_gpu = generate_matrix_gpu(sample_size, n)\n",
    "\n",
    "# GPUメモリからホストメモリ（CPU）に移動して結果を確認\n",
    "print(\"Generated Matrix (GPU):\")\n",
    "print(cp.asnumpy(result_gpu))"
   ]
  },
  {
   "cell_type": "code",
   "execution_count": 31,
   "metadata": {},
   "outputs": [
    {
     "name": "stdout",
     "output_type": "stream",
     "text": [
      "t=1, r_t=[0.60007339 0.39992661]\n",
      "t=2, r_t=[0.50004791 0.49995209]\n",
      "t=3, r_t=[0.58914211 0.41085789]\n",
      "t=4, r_t=[0.50003094 0.49996906]\n",
      "t=5, r_t=[0.57937235 0.42062765]\n",
      "t=6, r_t=[0.50001849 0.49998151]\n",
      "t=7, r_t=[0.5707657 0.4292343]\n",
      "t=8, r_t=[0.50000968 0.49999032]\n",
      "t=9, r_t=[0.56326527 0.43673473]\n"
     ]
    }
   ],
   "source": [
    "n = change_df.shape[1] # number of stocks\n",
    "T = change_df.shape[0]-1 # time series\n",
    "alpha = 1 # alpha must be equal to or below 1 (alpha-exp-concavity)\n",
    "sample_size = 10000000\n",
    "\n",
    "revenues = cp.ones(T+1)\n",
    "r_t = cp.array([1/n]*n) # ratio of stocks\n",
    "change_matrix = [cp.array(row) for row in change_df.to_numpy()]\n",
    "cum_rev = cp.ones(sample_size)\n",
    "sample_matrix = generate_matrix_gpu(sample_size, n)\n",
    "\n",
    "for t in range(1, T+1):\n",
    "    stock_change = change_matrix[t]\n",
    "    revenues[t] = stock_change @ r_t # record revenue of the calculated portfolio\n",
    "    cum_rev *= (sample_matrix @ stock_change) # cumulative revenues of samples\n",
    "    r_t = sample_matrix.T @ cum_rev**alpha / cp.sum(cum_rev**alpha) # calculate portfolio\n",
    "    print(f\"t={t}, r_t={r_t}\")\n",
    "\n"
   ]
  },
  {
   "cell_type": "code",
   "execution_count": null,
   "metadata": {},
   "outputs": [
    {
     "name": "stdout",
     "output_type": "stream",
     "text": [
      "t=1, r_t=[0.59997973 0.40002027]\n",
      "t=2, r_t=[0.49997525 0.50002475]\n",
      "t=3, r_t=[0.58907693 0.41092307]\n",
      "t=4, r_t=[0.49998651 0.50001349]\n",
      "t=5, r_t=[0.57933232 0.42066768]\n",
      "t=6, r_t=[0.49999713 0.50000287]\n",
      "t=7, r_t=[0.57074732 0.42925268]\n",
      "t=8, r_t=[0.50000689 0.49999311]\n",
      "t=9, r_t=[0.56326515 0.43673485]\n"
     ]
    }
   ],
   "source": [
    "# use float64. may be needed when the matrix is too large\n",
    "\n",
    "def generate_matrix_gpu(sample_size, n):\n",
    "    # GPU上でランダムな一様乱数を生成 (float64に指定)\n",
    "    random_matrix = cp.random.rand(sample_size, n - 1, dtype=cp.float64)\n",
    "    \n",
    "    # 最後の列に1を追加 (float64)\n",
    "    ones_column = cp.ones((sample_size, 1), dtype=cp.float64)\n",
    "    full_matrix = cp.concatenate((random_matrix, ones_column), axis=1)\n",
    "    \n",
    "    # 各行をソート\n",
    "    sorted_matrix = cp.sort(full_matrix, axis=1)\n",
    "    \n",
    "    # 差分を計算\n",
    "    result_matrix = cp.zeros((sample_size, n), dtype=cp.float64)\n",
    "    result_matrix[:, 0] = sorted_matrix[:, 0]  # 最初の列はそのまま\n",
    "    result_matrix[:, 1:] = sorted_matrix[:, 1:] - sorted_matrix[:, :-1]\n",
    "    \n",
    "    return result_matrix\n",
    "\n",
    "# -----------------------------\n",
    "# メインループ (float64)\n",
    "# -----------------------------\n",
    "\n",
    "n = change_df.shape[1]  # number of stocks\n",
    "T = change_df.shape[0] - 1  # time series\n",
    "alpha = 1.0  # alpha must be equal to or below 1 (alpha-exp-concavity)\n",
    "sample_size = 10000000\n",
    "\n",
    "# 初期化 (float64)\n",
    "revenues = cp.ones(T + 1, dtype=cp.float64)\n",
    "r_t = cp.array([1 / n] * n, dtype=cp.float64)  # ratio of stocks\n",
    "change_matrix = [cp.array(row, dtype=cp.float64) for row in change_df.to_numpy()]\n",
    "cum_rev = cp.ones(sample_size, dtype=cp.float64)\n",
    "sample_matrix = generate_matrix_gpu(sample_size, n)\n",
    "\n",
    "for t in range(1, T + 1):\n",
    "    stock_change = change_matrix[t]\n",
    "    revenues[t] = stock_change @ r_t  # record revenue of the calculated portfolio\n",
    "    cum_rev *= sample_matrix @ stock_change  # cumulative revenues of samples\n",
    "    r_t = sample_matrix.T @ cum_rev**alpha / cp.sum(cum_rev**alpha)  # calculate portfolio\n",
    "    print(f\"t={t}, r_t={cp.asnumpy(r_t)}\")\n"
   ]
  },
  {
   "cell_type": "code",
   "execution_count": 5,
   "metadata": {},
   "outputs": [],
   "source": [
    "import cvxpy\n",
    "import numpy as np\n",
    "import pandas as pd\n",
    "\n",
    "stock_df = pd.read_csv(\"./stocks.csv\", index_col=0) # row timestamp column each stock\n",
    "reset_df = stock_df.reset_index(drop=True)\n",
    "change_df = reset_df.pct_change() + 1 # dataframe of price changes by the previous date"
   ]
  },
  {
   "cell_type": "code",
   "execution_count": 40,
   "metadata": {},
   "outputs": [
    {
     "name": "stdout",
     "output_type": "stream",
     "text": [
      "t=1, r_t=[-1.99058028e-20  1.00000000e+00]\n"
     ]
    }
   ],
   "source": [
    "epsilon = 0.001\n",
    "G = np.linalg.norm(change_df.div(change_df.min(axis=1), axis=0), axis=1).max()\n",
    "# upper bound on the norm of the subgradients of f over (n-1)-dim simplex by Introduction to Online Convex Optimization p.18\n",
    "D = 2 # upper bound of the diameter of (n-1)-dim simplex (1-1/n)**0.5*2 is more precise\n",
    "alpha = 1\n",
    "gamma = 1/2*min(1/G/D, alpha)\n",
    "n = change_df.shape[1] # number of stocks\n",
    "T = change_df.shape[0]-1 # time series\n",
    "\n",
    "revenues = np.ones(T+1)\n",
    "r_t = np.array([1/n]*n) # initial ratio\n",
    "A = epsilon * np.eye(n)\n",
    "change_matrix = [np.array(row) for row in change_df.to_numpy()]\n",
    "\n",
    "Y = list()\n",
    "X = list()\n",
    "for t in range(1, T+1):\n",
    "    stock_change = change_matrix[t]\n",
    "    revenues[t] = stock_change @ r_t # record revenue of the calculated portfolio\n",
    "    A = A + np.outer(stock_change/revenues[t], stock_change/revenues[t])\n",
    "    y = r_t - 1/gamma * (np.linalg.inv(A) @ stock_change) / revenues[t]\n",
    "\n",
    "    x = cvxpy.Variable(n)\n",
    "\n",
    "    # 目的関数\n",
    "    objective = cvxpy.Minimize(cvxpy.quad_form(y - x, A))\n",
    "\n",
    "    # 制約\n",
    "    constraints = [cvxpy.sum(x) == 1, x >= 0]\n",
    "\n",
    "    # 問題定義\n",
    "    problem = cvxpy.Problem(objective, constraints)\n",
    "\n",
    "    # 解く\n",
    "    problem.solve()\n",
    "    Y.append(y)\n",
    "    X.append(x.value)\n",
    "\n",
    "    r_t = x.value\n",
    "    print(f\"t={t}, r_t={r_t}\")\n",
    "    break"
   ]
  },
  {
   "cell_type": "code",
   "execution_count": 39,
   "metadata": {},
   "outputs": [
    {
     "data": {
      "text/plain": [
       "<matplotlib.collections.PathCollection at 0x7fa0116e4e50>"
      ]
     },
     "execution_count": 39,
     "metadata": {},
     "output_type": "execute_result"
    },
    {
     "data": {
      "image/png": "[encoded data removed]",
      "text/plain": [
       "<Figure size 1000x1000 with 1 Axes>"
      ]
     },
     "metadata": {},
     "output_type": "display_data"
    }
   ],
   "source": [
    "import matplotlib.pyplot as plt\n",
    "\n",
    "fig = plt.figure(figsize=(10, 10))\n",
    "ax = fig.add_subplot()\n",
    "# plot Y . first element of Y is Y[i][0]\n",
    "ax.scatter([Y[i][0] for i in range(T)], [Y[i][1] for i in range(T)], label=\"Y\")\n",
    "ax.scatter([X[i][0] for i in range(T)], [X[i][1] for i in range(T)], label=\"X\")"
   ]
  },
  {
   "cell_type": "code",
   "execution_count": 36,
   "metadata": {},
   "outputs": [
    {
     "name": "stdout",
     "output_type": "stream",
     "text": [
      "Collecting matplotlib\n",
      "  Downloading matplotlib-3.10.0-cp311-cp311-manylinux_2_17_x86_64.manylinux2014_x86_64.whl.metadata (11 kB)\n",
      "Collecting contourpy>=1.0.1 (from matplotlib)\n",
      "  Downloading contourpy-1.3.1-cp311-cp311-manylinux_2_17_x86_64.manylinux2014_x86_64.whl.metadata (5.4 kB)\n",
      "Collecting cycler>=0.10 (from matplotlib)\n",
      "  Downloading cycler-0.12.1-py3-none-any.whl.metadata (3.8 kB)\n",
      "Collecting fonttools>=4.22.0 (from matplotlib)\n",
      "  Downloading fonttools-4.55.3-cp311-cp311-manylinux_2_17_x86_64.manylinux2014_x86_64.whl.metadata (165 kB)\n",
      "Collecting kiwisolver>=1.3.1 (from matplotlib)\n",
      "  Downloading kiwisolver-1.4.8-cp311-cp311-manylinux_2_17_x86_64.manylinux2014_x86_64.whl.metadata (6.2 kB)\n",
      "Requirement already satisfied: numpy>=1.23 in ./.portfolio/lib/python3.11/site-packages (from matplotlib) (2.2.1)\n",
      "Requirement already satisfied: packaging>=20.0 in ./.portfolio/lib/python3.11/site-packages (from matplotlib) (24.2)\n",
      "Collecting pillow>=8 (from matplotlib)\n",
      "  Downloading pillow-11.0.0-cp311-cp311-manylinux_2_17_x86_64.manylinux2014_x86_64.whl.metadata (9.1 kB)\n",
      "Collecting pyparsing>=2.3.1 (from matplotlib)\n",
      "  Downloading pyparsing-3.2.0-py3-none-any.whl.metadata (5.0 kB)\n",
      "Requirement already satisfied: python-dateutil>=2.7 in ./.portfolio/lib/python3.11/site-packages (from matplotlib) (2.9.0.post0)\n",
      "Requirement already satisfied: six>=1.5 in ./.portfolio/lib/python3.11/site-packages (from python-dateutil>=2.7->matplotlib) (1.17.0)\n",
      "Downloading matplotlib-3.10.0-cp311-cp311-manylinux_2_17_x86_64.manylinux2014_x86_64.whl (8.6 MB)\n",
      "\u001b[2K   \u001b[38;2;114;156;31m━━━━━━━━━━━━━━━━━━━━━━━━━━━━━━━━━━━━━━━━\u001b[0m \u001b[32m8.6/8.6 MB\u001b[0m \u001b[31m86.2 MB/s\u001b[0m eta \u001b[36m0:00:00\u001b[0m\n",
      "\u001b[?25hDownloading contourpy-1.3.1-cp311-cp311-manylinux_2_17_x86_64.manylinux2014_x86_64.whl (326 kB)\n",
      "Downloading cycler-0.12.1-py3-none-any.whl (8.3 kB)\n",
      "Downloading fonttools-4.55.3-cp311-cp311-manylinux_2_17_x86_64.manylinux2014_x86_64.whl (4.9 MB)\n",
      "\u001b[2K   \u001b[38;2;114;156;31m━━━━━━━━━━━━━━━━━━━━━━━━━━━━━━━━━━━━━━━━\u001b[0m \u001b[32m4.9/4.9 MB\u001b[0m \u001b[31m89.6 MB/s\u001b[0m eta \u001b[36m0:00:00\u001b[0m\n",
      "\u001b[?25hDownloading kiwisolver-1.4.8-cp311-cp311-manylinux_2_17_x86_64.manylinux2014_x86_64.whl (1.4 MB)\n",
      "\u001b[2K   \u001b[38;2;114;156;31m━━━━━━━━━━━━━━━━━━━━━━━━━━━━━━━━━━━━━━━━\u001b[0m \u001b[32m1.4/1.4 MB\u001b[0m \u001b[31m84.6 MB/s\u001b[0m eta \u001b[36m0:00:00\u001b[0m\n",
      "\u001b[?25hDownloading pillow-11.0.0-cp311-cp311-manylinux_2_17_x86_64.manylinux2014_x86_64.whl (4.3 MB)\n",
      "\u001b[2K   \u001b[38;2;114;156;31m━━━━━━━━━━━━━━━━━━━━━━━━━━━━━━━━━━━━━━━━\u001b[0m \u001b[32m4.3/4.3 MB\u001b[0m \u001b[31m116.2 MB/s\u001b[0m eta \u001b[36m0:00:00\u001b[0m\n",
      "\u001b[?25hDownloading pyparsing-3.2.0-py3-none-any.whl (106 kB)\n",
      "Installing collected packages: pyparsing, pillow, kiwisolver, fonttools, cycler, contourpy, matplotlib\n",
      "Successfully installed contourpy-1.3.1 cycler-0.12.1 fonttools-4.55.3 kiwisolver-1.4.8 matplotlib-3.10.0 pillow-11.0.0 pyparsing-3.2.0\n"
     ]
    }
   ],
   "source": [
    "!pip install matplotlib"
   ]
  }
 ],
 "metadata": {
  "kernelspec": {
   "display_name": "Python 3 (ipykernel)",
   "language": "python",
   "name": "python3"
  },
  "language_info": {
   "codemirror_mode": {
    "name": "ipython",
    "version": 3
   },
   "file_extension": ".py",
   "mimetype": "text/x-python",
   "name": "python",
   "nbconvert_exporter": "python",
   "pygments_lexer": "ipython3",
   "version": "3.11.0"
  }
 },
 "nbformat": 4,
 "nbformat_minor": 2
}
